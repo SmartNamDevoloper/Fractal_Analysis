{
 "cells": [
  {
   "cell_type": "markdown",
   "metadata": {},
   "source": [
    "<h1 id=\"tocheading\">Table of Contents</h1>\n",
    "<div id=\"toc\"></div>"
   ]
  },
  {
   "cell_type": "code",
   "execution_count": 250,
   "metadata": {},
   "outputs": [
    {
     "data": {
      "application/javascript": [
       "$.getScript('https://kmahelona.github.io/ipython_notebook_goodies/ipython_notebook_toc.js')\n"
      ],
      "text/plain": [
       "<IPython.core.display.Javascript object>"
      ]
     },
     "metadata": {},
     "output_type": "display_data"
    }
   ],
   "source": [
    "%%javascript\n",
    "$.getScript('https://kmahelona.github.io/ipython_notebook_goodies/ipython_notebook_toc.js')"
   ]
  },
  {
   "cell_type": "code",
   "execution_count": 251,
   "metadata": {},
   "outputs": [],
   "source": [
    "import warnings\n",
    "warnings.filterwarnings('ignore')"
   ]
  },
  {
   "cell_type": "code",
   "execution_count": 252,
   "metadata": {},
   "outputs": [],
   "source": [
    "import nolds\n",
    "import pandas as pd\n",
    "import numpy as np\n",
    "import matplotlib.pyplot as plt\n",
    "import seaborn as sns"
   ]
  },
  {
   "cell_type": "code",
   "execution_count": 253,
   "metadata": {},
   "outputs": [],
   "source": [
    "df= pd.read_csv(\"intern_dataset.csv\")"
   ]
  },
  {
   "cell_type": "markdown",
   "metadata": {},
   "source": [
    "## The Roadmap to Exploratory fractal analyses\n",
    "The python module used can be found here https://cschoel.github.io/nolds/index.html\n",
    "\n",
    "    Step1: Split the data sets according to the classes\n",
    "    Step2: Explore statistical properties of the data\n",
    "    Step3: Each class is subject to an analysis technique to get the complexity \n",
    "    Step4: Results Analysis\n",
    "    Step5: Conclusion"
   ]
  },
  {
   "cell_type": "markdown",
   "metadata": {},
   "source": [
    "## Step 1: Split the data sets according to the classes"
   ]
  },
  {
   "cell_type": "code",
   "execution_count": 254,
   "metadata": {},
   "outputs": [],
   "source": [
    "#the data frame is split to analyse the 3 classes seperately \n",
    "dfA= df[df.Label =='A']\n",
    "dfB= df[df.Label =='B']\n",
    "dfC= df[df.Label =='C']"
   ]
  },
  {
   "cell_type": "markdown",
   "metadata": {},
   "source": [
    "## Step 2: Explore statistical properties of the data"
   ]
  },
  {
   "cell_type": "code",
   "execution_count": 255,
   "metadata": {},
   "outputs": [
    {
     "name": "stdout",
     "output_type": "stream",
     "text": [
      "Class A has  (318000, 4) records\n",
      "Class B has  (312000, 4) records\n",
      "Class C has  (282000, 4) records\n"
     ]
    }
   ],
   "source": [
    "print(\"Class A has \", dfA.shape,\"records\")\n",
    "print(\"Class B has \", dfB.shape,\"records\")\n",
    "print(\"Class C has \", dfC.shape,\"records\")"
   ]
  },
  {
   "cell_type": "code",
   "execution_count": 256,
   "metadata": {},
   "outputs": [
    {
     "data": {
      "text/html": [
       "<div>\n",
       "<style scoped>\n",
       "    .dataframe tbody tr th:only-of-type {\n",
       "        vertical-align: middle;\n",
       "    }\n",
       "\n",
       "    .dataframe tbody tr th {\n",
       "        vertical-align: top;\n",
       "    }\n",
       "\n",
       "    .dataframe thead th {\n",
       "        text-align: right;\n",
       "    }\n",
       "</style>\n",
       "<table border=\"1\" class=\"dataframe\">\n",
       "  <thead>\n",
       "    <tr style=\"text-align: right;\">\n",
       "      <th></th>\n",
       "      <th>Time</th>\n",
       "      <th>Signal1</th>\n",
       "      <th>Signal2</th>\n",
       "      <th>Label</th>\n",
       "    </tr>\n",
       "  </thead>\n",
       "  <tbody>\n",
       "    <tr>\n",
       "      <th>0</th>\n",
       "      <td>2017-08-14 11:37:49.791</td>\n",
       "      <td>33668.091913</td>\n",
       "      <td>0.856726</td>\n",
       "      <td>A</td>\n",
       "    </tr>\n",
       "    <tr>\n",
       "      <th>1</th>\n",
       "      <td>2017-08-14 11:37:49.801</td>\n",
       "      <td>32564.903040</td>\n",
       "      <td>0.856705</td>\n",
       "      <td>A</td>\n",
       "    </tr>\n",
       "    <tr>\n",
       "      <th>2</th>\n",
       "      <td>2017-08-14 11:37:49.811</td>\n",
       "      <td>31454.043305</td>\n",
       "      <td>0.856683</td>\n",
       "      <td>A</td>\n",
       "    </tr>\n",
       "    <tr>\n",
       "      <th>3</th>\n",
       "      <td>2017-08-14 11:37:49.821</td>\n",
       "      <td>30335.387166</td>\n",
       "      <td>0.856659</td>\n",
       "      <td>A</td>\n",
       "    </tr>\n",
       "    <tr>\n",
       "      <th>4</th>\n",
       "      <td>2017-08-14 11:37:49.831</td>\n",
       "      <td>29207.142938</td>\n",
       "      <td>0.856634</td>\n",
       "      <td>A</td>\n",
       "    </tr>\n",
       "  </tbody>\n",
       "</table>\n",
       "</div>"
      ],
      "text/plain": [
       "                      Time       Signal1   Signal2 Label\n",
       "0  2017-08-14 11:37:49.791  33668.091913  0.856726     A\n",
       "1  2017-08-14 11:37:49.801  32564.903040  0.856705     A\n",
       "2  2017-08-14 11:37:49.811  31454.043305  0.856683     A\n",
       "3  2017-08-14 11:37:49.821  30335.387166  0.856659     A\n",
       "4  2017-08-14 11:37:49.831  29207.142938  0.856634     A"
      ]
     },
     "execution_count": 256,
     "metadata": {},
     "output_type": "execute_result"
    }
   ],
   "source": [
    "df.head()"
   ]
  },
  {
   "cell_type": "code",
   "execution_count": 257,
   "metadata": {},
   "outputs": [
    {
     "name": "stdout",
     "output_type": "stream",
     "text": [
      "<class 'pandas.core.frame.DataFrame'>\n",
      "RangeIndex: 912000 entries, 0 to 911999\n",
      "Data columns (total 4 columns):\n",
      " #   Column   Non-Null Count   Dtype  \n",
      "---  ------   --------------   -----  \n",
      " 0   Time     912000 non-null  object \n",
      " 1   Signal1  912000 non-null  float64\n",
      " 2   Signal2  912000 non-null  float64\n",
      " 3   Label    912000 non-null  object \n",
      "dtypes: float64(2), object(2)\n",
      "memory usage: 27.8+ MB\n"
     ]
    }
   ],
   "source": [
    "df.info()"
   ]
  },
  {
   "cell_type": "code",
   "execution_count": 258,
   "metadata": {},
   "outputs": [
    {
     "data": {
      "text/html": [
       "<div>\n",
       "<style scoped>\n",
       "    .dataframe tbody tr th:only-of-type {\n",
       "        vertical-align: middle;\n",
       "    }\n",
       "\n",
       "    .dataframe tbody tr th {\n",
       "        vertical-align: top;\n",
       "    }\n",
       "\n",
       "    .dataframe thead th {\n",
       "        text-align: right;\n",
       "    }\n",
       "</style>\n",
       "<table border=\"1\" class=\"dataframe\">\n",
       "  <thead>\n",
       "    <tr style=\"text-align: right;\">\n",
       "      <th></th>\n",
       "      <th>Time</th>\n",
       "      <th>Signal1</th>\n",
       "      <th>Signal2</th>\n",
       "      <th>Label</th>\n",
       "    </tr>\n",
       "  </thead>\n",
       "  <tbody>\n",
       "    <tr>\n",
       "      <th>count</th>\n",
       "      <td>912000</td>\n",
       "      <td>912000.000000</td>\n",
       "      <td>912000.000000</td>\n",
       "      <td>912000</td>\n",
       "    </tr>\n",
       "    <tr>\n",
       "      <th>unique</th>\n",
       "      <td>912000</td>\n",
       "      <td>NaN</td>\n",
       "      <td>NaN</td>\n",
       "      <td>3</td>\n",
       "    </tr>\n",
       "    <tr>\n",
       "      <th>top</th>\n",
       "      <td>2017-09-19 12:07:30.618</td>\n",
       "      <td>NaN</td>\n",
       "      <td>NaN</td>\n",
       "      <td>A</td>\n",
       "    </tr>\n",
       "    <tr>\n",
       "      <th>freq</th>\n",
       "      <td>1</td>\n",
       "      <td>NaN</td>\n",
       "      <td>NaN</td>\n",
       "      <td>318000</td>\n",
       "    </tr>\n",
       "    <tr>\n",
       "      <th>mean</th>\n",
       "      <td>NaN</td>\n",
       "      <td>31315.380483</td>\n",
       "      <td>0.398004</td>\n",
       "      <td>NaN</td>\n",
       "    </tr>\n",
       "    <tr>\n",
       "      <th>std</th>\n",
       "      <td>NaN</td>\n",
       "      <td>11700.734813</td>\n",
       "      <td>0.258119</td>\n",
       "      <td>NaN</td>\n",
       "    </tr>\n",
       "    <tr>\n",
       "      <th>min</th>\n",
       "      <td>NaN</td>\n",
       "      <td>-2934.328327</td>\n",
       "      <td>0.113841</td>\n",
       "      <td>NaN</td>\n",
       "    </tr>\n",
       "    <tr>\n",
       "      <th>25%</th>\n",
       "      <td>NaN</td>\n",
       "      <td>23851.958837</td>\n",
       "      <td>0.162522</td>\n",
       "      <td>NaN</td>\n",
       "    </tr>\n",
       "    <tr>\n",
       "      <th>50%</th>\n",
       "      <td>NaN</td>\n",
       "      <td>30650.812455</td>\n",
       "      <td>0.261210</td>\n",
       "      <td>NaN</td>\n",
       "    </tr>\n",
       "    <tr>\n",
       "      <th>75%</th>\n",
       "      <td>NaN</td>\n",
       "      <td>37933.966586</td>\n",
       "      <td>0.546605</td>\n",
       "      <td>NaN</td>\n",
       "    </tr>\n",
       "    <tr>\n",
       "      <th>max</th>\n",
       "      <td>NaN</td>\n",
       "      <td>67692.652022</td>\n",
       "      <td>1.356019</td>\n",
       "      <td>NaN</td>\n",
       "    </tr>\n",
       "  </tbody>\n",
       "</table>\n",
       "</div>"
      ],
      "text/plain": [
       "                           Time        Signal1        Signal2   Label\n",
       "count                    912000  912000.000000  912000.000000  912000\n",
       "unique                   912000            NaN            NaN       3\n",
       "top     2017-09-19 12:07:30.618            NaN            NaN       A\n",
       "freq                          1            NaN            NaN  318000\n",
       "mean                        NaN   31315.380483       0.398004     NaN\n",
       "std                         NaN   11700.734813       0.258119     NaN\n",
       "min                         NaN   -2934.328327       0.113841     NaN\n",
       "25%                         NaN   23851.958837       0.162522     NaN\n",
       "50%                         NaN   30650.812455       0.261210     NaN\n",
       "75%                         NaN   37933.966586       0.546605     NaN\n",
       "max                         NaN   67692.652022       1.356019     NaN"
      ]
     },
     "execution_count": 258,
     "metadata": {},
     "output_type": "execute_result"
    }
   ],
   "source": [
    "df.describe(include='all')"
   ]
  },
  {
   "cell_type": "markdown",
   "metadata": {},
   "source": [
    "## Step 3: Each class is subject to an analysis technique to get the complexity "
   ]
  },
  {
   "cell_type": "markdown",
   "metadata": {},
   "source": [
    "Below Each class of the two signals is analysed for DFA score and HURST exponent score."
   ]
  },
  {
   "cell_type": "code",
   "execution_count": 259,
   "metadata": {},
   "outputs": [],
   "source": [
    "#Creating a dataframe to store the results to analyse at the end \n",
    "result=pd.DataFrame(np.array([[1,'A','DFA',0],[1,'A','HURST',0],[2,'A','DFA',0],[2,'A','HURST',0],[1,'B','DFA',0],[1,'B','HURST',0],[2,'B','DFA',0],[2,'B','HURST',0],[1,'C','DFA',0],[1,'C','HURST',0],[2,'C','DFA',0],[2,'C','HURST',0]]),columns=['Signal','Class','Test','Value'])"
   ]
  },
  {
   "cell_type": "markdown",
   "metadata": {},
   "source": [
    "## Explanation of Detrended fluctuation analysis\n",
    "Source :https://cschoel.github.io/nolds/index.html\n",
    "\n",
    "Explanation of DFA:\n",
    "Detrended fluctuation analysis, much like the Hurst exponent, is used to find long-term statistical dependencies in time series.\n",
    "\n",
    "The idea behind DFA originates from the definition of self-affine processes. A process X is said to be self-affine if the standard deviation of the values within a window of length n changes with the window length factor L in a power law:\n",
    "\n",
    "std(X,L * n) = L^H * std(X, n)\n",
    "\n",
    "where std(X, k) is the standard deviation of the process X calculated over windows of size k. In this equation, H is called the Hurst parameter, which behaves indeed very similar to the Hurst exponent.\n",
    "\n",
    "Like the Hurst exponent, H can be obtained from a time series by calculating std(X,n) for different n and fitting a straight line to the plot of log(std(X,n)) versus log(n).\n",
    "\n",
    "To calculate a single std(X,n), the time series is split into windows of equal length n, so that the ith window of this size has the form\n",
    "\n",
    "W_(n,i) = [x_i, x_(i+1), x_(i+2), … x_(i+n-1)]\n",
    "\n",
    "The value std(X,n) is then obtained by calculating std(W_(n,i)) for each i and averaging the obtained values over i.\n",
    "\n",
    "The aforementioned definition of self-affinity, however, assumes that the process is non-stationary (i.e. that the standard deviation changes over time) and it is highly influenced by local and global trends of the time series.\n",
    "\n",
    "To overcome these problems, an estimate alpha of H is calculated by using a “walk” or “signal profile” instead of the raw time series. This walk is obtained by substracting the mean and then taking the cumulative sum of the original time series. The local trends are removed for each window separately by fitting a polynomial p_(n,i) to the window W_(n,i) and then calculating W’_(n,i) = W_(n,i) - p_(n,i) (element-wise substraction).\n",
    "\n",
    "We then calculate std(X,n) as before only using the “detrended” window W’_(n,i) instead of W_(n,i). Instead of H we obtain the parameter alpha from the line fitting.\n",
    "\n",
    "For alpha < 1 the underlying process is stationary and can be modelled as fractional Gaussian noise with H = alpha. This means for alpha = 0.5 we have no correlation or “memory”, for 0.5 < alpha < 1 we have a memory with positive correlation and for alpha < 0.5 the correlation is negative.\n",
    "\n",
    "For alpha > 1 the underlying process is non-stationary and can be modeled as fractional Brownian motion with H = alpha - 1."
   ]
  },
  {
   "cell_type": "markdown",
   "metadata": {},
   "source": [
    "### DFA of Signal1 Class A"
   ]
  },
  {
   "cell_type": "code",
   "execution_count": 260,
   "metadata": {},
   "outputs": [
    {
     "data": {
      "image/png": "[encoded data removed]",
      "text/plain": [
       "<Figure size 432x288 with 1 Axes>"
      ]
     },
     "metadata": {
      "needs_background": "light"
     },
     "output_type": "display_data"
    },
    {
     "data": {
      "text/plain": [
       "0.5114918677093938"
      ]
     },
     "execution_count": 260,
     "metadata": {},
     "output_type": "execute_result"
    }
   ],
   "source": [
    "r = nolds.dfa(dfA.Signal1,debug_plot=True)\n",
    "r\n"
   ]
  },
  {
   "cell_type": "code",
   "execution_count": 261,
   "metadata": {},
   "outputs": [],
   "source": [
    "#Appending to results data frame\n",
    "result.loc[(result.Signal=='1') & (result.Class =='A') & (result.Test == 'DFA'),\"Value\"] = r"
   ]
  },
  {
   "cell_type": "markdown",
   "metadata": {},
   "source": [
    "##### Observation\n",
    "Signal 1 of Class A has a low DFA score hence suggesting a high complexity. This is seen in the graph with small log(n) or in other words when the number of windows is small the data line and the regression line are not close to each other. Suggesting the details of the Signal are lost when the magnitude of the scale used to measure is large hence intricate details are lost."
   ]
  },
  {
   "cell_type": "markdown",
   "metadata": {},
   "source": [
    "### DFA of Signal2 Class A"
   ]
  },
  {
   "cell_type": "code",
   "execution_count": 262,
   "metadata": {},
   "outputs": [
    {
     "data": {
      "image/png": "[encoded data removed]",
      "text/plain": [
       "<Figure size 432x288 with 1 Axes>"
      ]
     },
     "metadata": {
      "needs_background": "light"
     },
     "output_type": "display_data"
    },
    {
     "data": {
      "text/plain": [
       "1.8449455786234414"
      ]
     },
     "execution_count": 262,
     "metadata": {},
     "output_type": "execute_result"
    }
   ],
   "source": [
    "r=nolds.dfa(dfA.Signal2,debug_plot=True)\n",
    "r"
   ]
  },
  {
   "cell_type": "code",
   "execution_count": 263,
   "metadata": {},
   "outputs": [],
   "source": [
    "#Appending to results data frame\n",
    "result.loc[(result.Signal=='2') & (result.Class =='A') & (result.Test == 'DFA'),'Value'] = r"
   ]
  },
  {
   "cell_type": "markdown",
   "metadata": {},
   "source": [
    "##### Observation\n",
    "Signal 2 of Class A has a high DFA score hence suggesting a low complexity. This is seen in the graph with small log(n) or in other words even when the number of windows is small the data line and the regression line are still close to each other."
   ]
  },
  {
   "cell_type": "markdown",
   "metadata": {},
   "source": [
    "### DFA of Signal1 Class B"
   ]
  },
  {
   "cell_type": "code",
   "execution_count": 264,
   "metadata": {},
   "outputs": [
    {
     "data": {
      "image/png": "[encoded data removed]",
      "text/plain": [
       "<Figure size 432x288 with 1 Axes>"
      ]
     },
     "metadata": {
      "needs_background": "light"
     },
     "output_type": "display_data"
    },
    {
     "data": {
      "text/plain": [
       "0.5704516814209171"
      ]
     },
     "execution_count": 264,
     "metadata": {},
     "output_type": "execute_result"
    }
   ],
   "source": [
    "r = nolds.dfa(dfB.Signal1,debug_plot=True)\n",
    "r"
   ]
  },
  {
   "cell_type": "code",
   "execution_count": 265,
   "metadata": {},
   "outputs": [],
   "source": [
    "#Appending to results data frame\n",
    "result.loc[(result.Signal=='1') & (result.Class =='B') & (result.Test == 'DFA'),'Value'] = r"
   ]
  },
  {
   "cell_type": "markdown",
   "metadata": {},
   "source": [
    "##### Observation\n",
    "Signal 1 of Class B has a low DFA score hence suggesting a high complexity. This is seen in the graph with small log(n) or in other words when the number of windows is small the data line and the regression line are not close to each other. Suggesting the details of the Signal are lost when the magnitude of the scale used to measure is large hence intricate details are lost."
   ]
  },
  {
   "cell_type": "markdown",
   "metadata": {},
   "source": [
    "### DFA of Signal2 Class B"
   ]
  },
  {
   "cell_type": "code",
   "execution_count": 266,
   "metadata": {},
   "outputs": [
    {
     "data": {
      "image/png": "[encoded data removed]",
      "text/plain": [
       "<Figure size 432x288 with 1 Axes>"
      ]
     },
     "metadata": {
      "needs_background": "light"
     },
     "output_type": "display_data"
    },
    {
     "data": {
      "text/plain": [
       "1.817671427084578"
      ]
     },
     "execution_count": 266,
     "metadata": {},
     "output_type": "execute_result"
    }
   ],
   "source": [
    "r = nolds.dfa(dfB.Signal2,debug_plot=True)\n",
    "r"
   ]
  },
  {
   "cell_type": "code",
   "execution_count": 267,
   "metadata": {},
   "outputs": [],
   "source": [
    "#Appending to results data frame\n",
    "result.loc[(result.Signal=='2') & (result.Class =='B') & (result.Test == 'DFA'),'Value'] = r"
   ]
  },
  {
   "cell_type": "markdown",
   "metadata": {},
   "source": [
    "##### Observation\n",
    "Signal 2 of Class B has a high DFA hence suggesting a low complexity. This is seen in the graph as log(n) or in other words the number of windows  is small the data line and the regression line are still close to each other. "
   ]
  },
  {
   "cell_type": "markdown",
   "metadata": {},
   "source": [
    "### DFA of Signal1 Class C"
   ]
  },
  {
   "cell_type": "code",
   "execution_count": 268,
   "metadata": {},
   "outputs": [
    {
     "data": {
      "image/png": "[encoded data removed]",
      "text/plain": [
       "<Figure size 432x288 with 1 Axes>"
      ]
     },
     "metadata": {
      "needs_background": "light"
     },
     "output_type": "display_data"
    },
    {
     "data": {
      "text/plain": [
       "0.7462981917244241"
      ]
     },
     "execution_count": 268,
     "metadata": {},
     "output_type": "execute_result"
    }
   ],
   "source": [
    "r = nolds.dfa(dfC.Signal1,debug_plot=True)\n",
    "r"
   ]
  },
  {
   "cell_type": "code",
   "execution_count": 269,
   "metadata": {},
   "outputs": [],
   "source": [
    "#Appending to results data frame\n",
    "result.loc[(result.Signal=='1') & (result.Class =='C') & (result.Test == 'DFA'),'Value'] = r"
   ]
  },
  {
   "cell_type": "markdown",
   "metadata": {},
   "source": [
    "##### Observation\n",
    "Signal 1 of Class C has a low DFA score hence suggesting a high complexity. This is seen in the graph with small log(n) or in other words when the number of windows is small the data line and the regression line are not close to each other. Suggesting the details of the Signal are lost when the magnitude of the scale used to measure is large hence intricate details are lost."
   ]
  },
  {
   "cell_type": "markdown",
   "metadata": {},
   "source": [
    "### DFA of Signal2 Class C"
   ]
  },
  {
   "cell_type": "code",
   "execution_count": 270,
   "metadata": {},
   "outputs": [
    {
     "data": {
      "image/png": "[encoded data removed]",
      "text/plain": [
       "<Figure size 432x288 with 1 Axes>"
      ]
     },
     "metadata": {
      "needs_background": "light"
     },
     "output_type": "display_data"
    },
    {
     "data": {
      "text/plain": [
       "1.7160380861831217"
      ]
     },
     "execution_count": 270,
     "metadata": {},
     "output_type": "execute_result"
    }
   ],
   "source": [
    "r= nolds.dfa(dfC.Signal2,debug_plot=True)\n",
    "r"
   ]
  },
  {
   "cell_type": "code",
   "execution_count": 271,
   "metadata": {},
   "outputs": [],
   "source": [
    "#Appending to results data frame\n",
    "result.loc[(result.Signal=='2') & (result.Class =='C') & (result.Test == 'DFA'),'Value'] = r"
   ]
  },
  {
   "cell_type": "markdown",
   "metadata": {},
   "source": [
    "##### Observation\n",
    "Signal 2 of Class C has a high DFA hence suggesting a low complexity. This is seen in the graph as log(n) or in other words the number of windows  is small the data line and the regression line are still close to each other."
   ]
  },
  {
   "cell_type": "markdown",
   "metadata": {},
   "source": [
    "## Explanation of Hurst exponent:\n",
    "Source:https://cschoel.github.io/nolds/index.html\n",
    "\n",
    "The Hurst exponent is a measure for the “long-term memory” of a time series, meaning the long statistical dependencies in the data that do not originate from cycles.\n",
    "\n",
    "It originates from H.E. Hursts observations of the problem of long-term storage in water reservoirs. If x_i is the discharge of a river in year i and we observe this discharge for N years, we can calculate the storage capacity that would be required to keep the discharge steady at its mean value.\n",
    "\n",
    "To do so, we first substract the mean over all x_i from the individual x_i to obtain the departures x’_i from the mean for each year i. As the excess or deficit in discharge always carrys over from year i to year i+1, we need to examine the cumulative sum of x’_i, denoted by y_i. This cumulative sum represents the filling of our hypothetical storage. If the sum is above 0, we are storing excess discharge from the river, if it is below zero we have compensated a deficit in discharge by releasing water from the storage. The range (maximum - minimum) R of y_i therefore represents the total capacity required for the storage.\n",
    "\n",
    "Hurst showed that this value follows a steady trend for varying N if it is normalized by the standard deviation sigma over the x_i. Namely he obtained the following formula:\n",
    "\n",
    "R/sigma = (N/2)^K\n",
    "\n",
    "In this equation, K is called the Hurst exponent. Its value is 0.5 for white noise, but becomes greater for time series that exhibit some positive dependency on previous values. For negative dependencies it becomes less than 0.5.\n",
    "\n",
    "Explanation of the algorithm:\n",
    "The rescaled range (R/S) approach is directly derived from Hurst’s definition. The time series of length N is split into non-overlapping subseries of length n. Then, R and S (S = sigma) are calculated for each subseries and the mean is taken over all subseries yielding (R/S)_n. This process is repeated for several lengths n. Finally, the exponent K is obtained by fitting a straight line to the plot of log((R/S)_n) vs log(n).\n",
    "\n",
    "There seems to be no consensus how to chose the subseries lenghts n. This function therefore leaves the choice to the user. The module provides some utility functions for “typical” values:\n",
    "\n",
    "binary_n: N/2, N/4, N/8, …\n",
    "logarithmic_n: min_n, min_n * f, min_n * f^2, …"
   ]
  },
  {
   "cell_type": "markdown",
   "metadata": {},
   "source": [
    "### Hurst Exponent of Signal1 Class A"
   ]
  },
  {
   "cell_type": "code",
   "execution_count": 272,
   "metadata": {},
   "outputs": [
    {
     "data": {
      "image/png": "[encoded data removed]",
      "text/plain": [
       "<Figure size 432x288 with 1 Axes>"
      ]
     },
     "metadata": {
      "needs_background": "light"
     },
     "output_type": "display_data"
    },
    {
     "data": {
      "text/plain": [
       "0.5926950673252946"
      ]
     },
     "execution_count": 272,
     "metadata": {},
     "output_type": "execute_result"
    }
   ],
   "source": [
    "r = nolds.hurst_rs(dfA.Signal1,debug_plot=True)\n",
    "r"
   ]
  },
  {
   "cell_type": "code",
   "execution_count": 273,
   "metadata": {},
   "outputs": [],
   "source": [
    "#Appending to results data frame\n",
    "result.loc[(result.Signal=='1') & (result.Class =='A') & (result.Test == 'HURST'),'Value'] = r"
   ]
  },
  {
   "cell_type": "markdown",
   "metadata": {},
   "source": [
    "##### Observation\n",
    "Signal 1 of Class A has a low Hurst score and greater than 0.5 hence suggesting a high complexity.For self-similar time series, H is directly related to fractal dimension, D, where 1 < D < 2, such that D = 2 - H. The values of the Hurst exponent vary between 0 and 1, with lower values indicating a rougher trend, high volatility, and more roughness. Sence hurst_rs score is closer to 0.5 it is more complex. A value H in the range 0.5–1 indicates a time series with long-term positive autocorrelation, meaning both that a high value in the series will probably be followed by another high value and that the values a long time into the future will also tend to be high.\n",
    "\n",
    "As seen in the graph with small log(n) or in other words when the number of windows is small the data line and the regression line are not close to each other. Suggesting the details of the Signal are lost when the magnitude of the scale used to measure is large and hence intricate details are lost."
   ]
  },
  {
   "cell_type": "markdown",
   "metadata": {},
   "source": [
    "### Hurst Exponent of Signal2 Class A"
   ]
  },
  {
   "cell_type": "code",
   "execution_count": 274,
   "metadata": {},
   "outputs": [
    {
     "data": {
      "image/png": "[encoded data removed]",
      "text/plain": [
       "<Figure size 432x288 with 1 Axes>"
      ]
     },
     "metadata": {
      "needs_background": "light"
     },
     "output_type": "display_data"
    },
    {
     "data": {
      "text/plain": [
       "0.9436455006528948"
      ]
     },
     "execution_count": 274,
     "metadata": {},
     "output_type": "execute_result"
    }
   ],
   "source": [
    "r = nolds.hurst_rs(dfA.Signal2,debug_plot=True)\n",
    "r"
   ]
  },
  {
   "cell_type": "code",
   "execution_count": 275,
   "metadata": {},
   "outputs": [],
   "source": [
    "#Appending to results data frame\n",
    "result.loc[(result.Signal=='2') & (result.Class =='A') & (result.Test == 'HURST'),'Value'] = r"
   ]
  },
  {
   "cell_type": "markdown",
   "metadata": {},
   "source": [
    "##### Observation\n",
    "Signal 2 of Class A has a high Hurst score and greater than 0.5 hence suggesting a low complexity.For self-similar time series, H is directly related to fractal dimension, D, where 1 < D < 2, such that D = 2 - H. The values of the Hurst exponent vary between 0 and 1, with higher values indicating a smoother trend, less volatility, and less roughness. Sence hurst_rs score is closer to 1 it is less complex. A value H in the range 0.5–1 indicates a time series with long-term positive autocorrelation, meaning both that a high value in the series will probably be followed by another high value and that the values a long time into the future will also tend to be high.\n",
    "\n",
    "As seen in the graph with small log(n) or in other words when the number of windows is small the data line and the regression line are close to each other. Suggesting the details of the Signal are not lost when the magnitude of the scale used to measure is large and intricate details are not lost."
   ]
  },
  {
   "cell_type": "markdown",
   "metadata": {},
   "source": [
    "### Hurst Exponent of Signal1 Class B"
   ]
  },
  {
   "cell_type": "code",
   "execution_count": 276,
   "metadata": {},
   "outputs": [
    {
     "data": {
      "image/png": "[encoded data removed]",
      "text/plain": [
       "<Figure size 432x288 with 1 Axes>"
      ]
     },
     "metadata": {
      "needs_background": "light"
     },
     "output_type": "display_data"
    },
    {
     "data": {
      "text/plain": [
       "0.6082193903732962"
      ]
     },
     "execution_count": 276,
     "metadata": {},
     "output_type": "execute_result"
    }
   ],
   "source": [
    "r =nolds.hurst_rs(dfB.Signal1,debug_plot=True)\n",
    "r"
   ]
  },
  {
   "cell_type": "code",
   "execution_count": 277,
   "metadata": {},
   "outputs": [],
   "source": [
    "#Appending to results data frame\n",
    "result.loc[(result.Signal=='1') & (result.Class =='B') & (result.Test == 'HURST'),'Value'] = r"
   ]
  },
  {
   "cell_type": "markdown",
   "metadata": {},
   "source": [
    "##### Observation\n",
    "Signal 1 of Class B has a low Hurst score and greater than 0.5 hence suggesting a high complexity.For self-similar time series, H is directly related to fractal dimension, D, where 1 < D < 2, such that D = 2 - H. The values of the Hurst exponent vary between 0 and 1, with lower values indicating a rougher trend, high volatility, and more roughness. Sence hurst_rs score is closer to 0.5 it is more complex. A value H in the range 0.5–1 indicates a time series with long-term positive autocorrelation, meaning both that a high value in the series will probably be followed by another high value and that the values a long time into the future will also tend to be high.\n",
    "\n",
    "As seen in the graph with small log(n) or in other words when the number of windows is small the data line and the regression line are not close to each other. Suggesting the details of the Signal are lost when the magnitude of the scale used to measure is large and hence intricate details are lost."
   ]
  },
  {
   "cell_type": "markdown",
   "metadata": {},
   "source": [
    "### Hurst Exponent of Signal2 Class B"
   ]
  },
  {
   "cell_type": "code",
   "execution_count": 278,
   "metadata": {},
   "outputs": [
    {
     "data": {
      "image/png": "[encoded data removed]",
      "text/plain": [
       "<Figure size 432x288 with 1 Axes>"
      ]
     },
     "metadata": {
      "needs_background": "light"
     },
     "output_type": "display_data"
    },
    {
     "data": {
      "text/plain": [
       "0.9656017582527001"
      ]
     },
     "execution_count": 278,
     "metadata": {},
     "output_type": "execute_result"
    }
   ],
   "source": [
    "r = nolds.hurst_rs(dfB.Signal2,debug_plot=True)\n",
    "r"
   ]
  },
  {
   "cell_type": "code",
   "execution_count": 279,
   "metadata": {},
   "outputs": [],
   "source": [
    "#Appending to results data frame\n",
    "result.loc[(result.Signal=='2') & (result.Class =='B') & (result.Test == 'HURST'),'Value'] = r"
   ]
  },
  {
   "cell_type": "markdown",
   "metadata": {},
   "source": [
    "##### Observation\n",
    "Signal 2 of Class B has a high Hurst score and greater than 0.5 hence suggesting a low complexity.For self-similar time series, H is directly related to fractal dimension, D, where 1 < D < 2, such that D = 2 - H. The values of the Hurst exponent vary between 0 and 1, with higher values indicating a smoother trend, less volatility, and less roughness. Sence hurst_rs score is closer to 1 it is less complex. A value H in the range 0.5–1 indicates a time series with long-term positive autocorrelation, meaning both that a high value in the series will probably be followed by another high value and that the values a long time into the future will also tend to be high.\n",
    "\n",
    "As seen in the graph with small log(n) or in other words when the number of windows is small the data line and the regression line are close to each other. Suggesting the details of the Signal are not lost when the magnitude of the scale used to measure is large and intricate details are not lost."
   ]
  },
  {
   "cell_type": "markdown",
   "metadata": {},
   "source": [
    "### Hurst Exponent of Signal1 Class C"
   ]
  },
  {
   "cell_type": "code",
   "execution_count": 280,
   "metadata": {},
   "outputs": [
    {
     "data": {
      "image/png": "[encoded data removed]",
      "text/plain": [
       "<Figure size 432x288 with 1 Axes>"
      ]
     },
     "metadata": {
      "needs_background": "light"
     },
     "output_type": "display_data"
    },
    {
     "data": {
      "text/plain": [
       "0.8292981622514974"
      ]
     },
     "execution_count": 280,
     "metadata": {},
     "output_type": "execute_result"
    }
   ],
   "source": [
    "r = nolds.hurst_rs(dfC.Signal1,debug_plot=True)\n",
    "r"
   ]
  },
  {
   "cell_type": "code",
   "execution_count": 281,
   "metadata": {},
   "outputs": [],
   "source": [
    "#Appending to results data frame\n",
    "result.loc[(result.Signal=='1') & (result.Class =='C') & (result.Test == 'HURST'),'Value'] = r"
   ]
  },
  {
   "cell_type": "markdown",
   "metadata": {},
   "source": [
    "##### Observation\n",
    "Signal 1 of Class B has a low Hurst score and greater than 0.5 hence suggesting a high complexity. For self-similar time series, H is directly related to fractal dimension, D, where 1 < D < 2, such that D = 2 - H. The values of the Hurst exponent vary between 0 and 1, with lower values indicating a rougher trend, high volatility, and more roughness. Sence hurst_rs score is closer to 0.5 it is more complex. A value H in the range 0.5–1 indicates a time series with long-term positive autocorrelation, meaning both that a high value in the series will probably be followed by another high value and that the values a long time into the future will also tend to be high.\n",
    "\n",
    "As seen in the graph with small log(n) or in other words when the number of windows is small the data line and the regression line are not close to each other. Suggesting the details of the Signal are lost when the magnitude of the scale used to measure is large and hence intricate details are lost."
   ]
  },
  {
   "cell_type": "markdown",
   "metadata": {},
   "source": [
    "### Hurst Exponent ofe Signal2 Class C"
   ]
  },
  {
   "cell_type": "code",
   "execution_count": 282,
   "metadata": {},
   "outputs": [
    {
     "data": {
      "image/png": "[encoded data removed]",
      "text/plain": [
       "<Figure size 432x288 with 1 Axes>"
      ]
     },
     "metadata": {
      "needs_background": "light"
     },
     "output_type": "display_data"
    },
    {
     "data": {
      "text/plain": [
       "0.8748319171563559"
      ]
     },
     "execution_count": 282,
     "metadata": {},
     "output_type": "execute_result"
    }
   ],
   "source": [
    "r =nolds.hurst_rs(dfC.Signal2,debug_plot=True)\n",
    "r"
   ]
  },
  {
   "cell_type": "code",
   "execution_count": 283,
   "metadata": {},
   "outputs": [],
   "source": [
    "#Appending to results data frame\n",
    "result.loc[(result.Signal=='2') & (result.Class =='C') & (result.Test == 'HURST'),'Value'] = r"
   ]
  },
  {
   "cell_type": "markdown",
   "metadata": {},
   "source": [
    "##### Observation\n",
    "Signal 2 of Class C has a high Hurst score and greater than 0.5 hence suggesting a low complexity.For self-similar time series, H is directly related to fractal dimension, D, where 1 < D < 2, such that D = 2 - H. The values of the Hurst exponent vary between 0 and 1, with higher values indicating a smoother trend, less volatility, and less roughness. Sence hurst_rs score is closer to 1 it is less complex. A value H in the range 0.5–1 indicates a time series with long-term positive autocorrelation, meaning both that a high value in the series will probably be followed by another high value and that the values a long time into the future will also tend to be high.\n",
    "\n",
    "As seen in the graph with small log(n) or in other words when the number of windows is small the data line and the regression line are close to each other. Suggesting the details of the Signal are not lost when the magnitude of the scale used to measure is large and intricate details are not lost."
   ]
  },
  {
   "cell_type": "markdown",
   "metadata": {},
   "source": [
    "## Step 4: Result Analysis"
   ]
  },
  {
   "cell_type": "code",
   "execution_count": 284,
   "metadata": {},
   "outputs": [
    {
     "data": {
      "text/html": [
       "<div>\n",
       "<style scoped>\n",
       "    .dataframe tbody tr th:only-of-type {\n",
       "        vertical-align: middle;\n",
       "    }\n",
       "\n",
       "    .dataframe tbody tr th {\n",
       "        vertical-align: top;\n",
       "    }\n",
       "\n",
       "    .dataframe thead th {\n",
       "        text-align: right;\n",
       "    }\n",
       "</style>\n",
       "<table border=\"1\" class=\"dataframe\">\n",
       "  <thead>\n",
       "    <tr style=\"text-align: right;\">\n",
       "      <th></th>\n",
       "      <th>Signal</th>\n",
       "      <th>Class</th>\n",
       "      <th>Test</th>\n",
       "      <th>Value</th>\n",
       "    </tr>\n",
       "  </thead>\n",
       "  <tbody>\n",
       "    <tr>\n",
       "      <th>0</th>\n",
       "      <td>1</td>\n",
       "      <td>A</td>\n",
       "      <td>DFA</td>\n",
       "      <td>0.511492</td>\n",
       "    </tr>\n",
       "    <tr>\n",
       "      <th>1</th>\n",
       "      <td>1</td>\n",
       "      <td>A</td>\n",
       "      <td>HURST</td>\n",
       "      <td>0.592695</td>\n",
       "    </tr>\n",
       "    <tr>\n",
       "      <th>2</th>\n",
       "      <td>2</td>\n",
       "      <td>A</td>\n",
       "      <td>DFA</td>\n",
       "      <td>1.844946</td>\n",
       "    </tr>\n",
       "    <tr>\n",
       "      <th>3</th>\n",
       "      <td>2</td>\n",
       "      <td>A</td>\n",
       "      <td>HURST</td>\n",
       "      <td>0.943646</td>\n",
       "    </tr>\n",
       "    <tr>\n",
       "      <th>4</th>\n",
       "      <td>1</td>\n",
       "      <td>B</td>\n",
       "      <td>DFA</td>\n",
       "      <td>0.570452</td>\n",
       "    </tr>\n",
       "    <tr>\n",
       "      <th>5</th>\n",
       "      <td>1</td>\n",
       "      <td>B</td>\n",
       "      <td>HURST</td>\n",
       "      <td>0.608219</td>\n",
       "    </tr>\n",
       "    <tr>\n",
       "      <th>6</th>\n",
       "      <td>2</td>\n",
       "      <td>B</td>\n",
       "      <td>DFA</td>\n",
       "      <td>1.817671</td>\n",
       "    </tr>\n",
       "    <tr>\n",
       "      <th>7</th>\n",
       "      <td>2</td>\n",
       "      <td>B</td>\n",
       "      <td>HURST</td>\n",
       "      <td>0.965602</td>\n",
       "    </tr>\n",
       "    <tr>\n",
       "      <th>8</th>\n",
       "      <td>1</td>\n",
       "      <td>C</td>\n",
       "      <td>DFA</td>\n",
       "      <td>0.746298</td>\n",
       "    </tr>\n",
       "    <tr>\n",
       "      <th>9</th>\n",
       "      <td>1</td>\n",
       "      <td>C</td>\n",
       "      <td>HURST</td>\n",
       "      <td>0.829298</td>\n",
       "    </tr>\n",
       "    <tr>\n",
       "      <th>10</th>\n",
       "      <td>2</td>\n",
       "      <td>C</td>\n",
       "      <td>DFA</td>\n",
       "      <td>1.716038</td>\n",
       "    </tr>\n",
       "    <tr>\n",
       "      <th>11</th>\n",
       "      <td>2</td>\n",
       "      <td>C</td>\n",
       "      <td>HURST</td>\n",
       "      <td>0.874832</td>\n",
       "    </tr>\n",
       "  </tbody>\n",
       "</table>\n",
       "</div>"
      ],
      "text/plain": [
       "   Signal Class   Test     Value\n",
       "0       1     A    DFA  0.511492\n",
       "1       1     A  HURST  0.592695\n",
       "2       2     A    DFA  1.844946\n",
       "3       2     A  HURST  0.943646\n",
       "4       1     B    DFA  0.570452\n",
       "5       1     B  HURST  0.608219\n",
       "6       2     B    DFA  1.817671\n",
       "7       2     B  HURST  0.965602\n",
       "8       1     C    DFA  0.746298\n",
       "9       1     C  HURST  0.829298\n",
       "10      2     C    DFA  1.716038\n",
       "11      2     C  HURST  0.874832"
      ]
     },
     "execution_count": 284,
     "metadata": {},
     "output_type": "execute_result"
    }
   ],
   "source": [
    "result"
   ]
  },
  {
   "cell_type": "code",
   "execution_count": 285,
   "metadata": {},
   "outputs": [
    {
     "data": {
      "text/html": [
       "<div>\n",
       "<style scoped>\n",
       "    .dataframe tbody tr th:only-of-type {\n",
       "        vertical-align: middle;\n",
       "    }\n",
       "\n",
       "    .dataframe tbody tr th {\n",
       "        vertical-align: top;\n",
       "    }\n",
       "\n",
       "    .dataframe thead th {\n",
       "        text-align: right;\n",
       "    }\n",
       "</style>\n",
       "<table border=\"1\" class=\"dataframe\">\n",
       "  <thead>\n",
       "    <tr style=\"text-align: right;\">\n",
       "      <th></th>\n",
       "      <th>Signal</th>\n",
       "      <th>Class</th>\n",
       "      <th>Test</th>\n",
       "      <th>Value</th>\n",
       "    </tr>\n",
       "  </thead>\n",
       "  <tbody>\n",
       "    <tr>\n",
       "      <th>0</th>\n",
       "      <td>1</td>\n",
       "      <td>A</td>\n",
       "      <td>DFA</td>\n",
       "      <td>0.511492</td>\n",
       "    </tr>\n",
       "    <tr>\n",
       "      <th>2</th>\n",
       "      <td>2</td>\n",
       "      <td>A</td>\n",
       "      <td>DFA</td>\n",
       "      <td>1.844946</td>\n",
       "    </tr>\n",
       "    <tr>\n",
       "      <th>4</th>\n",
       "      <td>1</td>\n",
       "      <td>B</td>\n",
       "      <td>DFA</td>\n",
       "      <td>0.570452</td>\n",
       "    </tr>\n",
       "    <tr>\n",
       "      <th>6</th>\n",
       "      <td>2</td>\n",
       "      <td>B</td>\n",
       "      <td>DFA</td>\n",
       "      <td>1.817671</td>\n",
       "    </tr>\n",
       "    <tr>\n",
       "      <th>8</th>\n",
       "      <td>1</td>\n",
       "      <td>C</td>\n",
       "      <td>DFA</td>\n",
       "      <td>0.746298</td>\n",
       "    </tr>\n",
       "    <tr>\n",
       "      <th>10</th>\n",
       "      <td>2</td>\n",
       "      <td>C</td>\n",
       "      <td>DFA</td>\n",
       "      <td>1.716038</td>\n",
       "    </tr>\n",
       "  </tbody>\n",
       "</table>\n",
       "</div>"
      ],
      "text/plain": [
       "   Signal Class Test     Value\n",
       "0       1     A  DFA  0.511492\n",
       "2       2     A  DFA  1.844946\n",
       "4       1     B  DFA  0.570452\n",
       "6       2     B  DFA  1.817671\n",
       "8       1     C  DFA  0.746298\n",
       "10      2     C  DFA  1.716038"
      ]
     },
     "execution_count": 285,
     "metadata": {},
     "output_type": "execute_result"
    }
   ],
   "source": [
    "dfa_result = result[result.Test==\"DFA\"]\n",
    "dfa_result"
   ]
  },
  {
   "cell_type": "code",
   "execution_count": 286,
   "metadata": {},
   "outputs": [
    {
     "data": {
      "image/png": "[encoded data removed]",
      "text/plain": [
       "<Figure size 504x504 with 1 Axes>"
      ]
     },
     "metadata": {
      "needs_background": "light"
     },
     "output_type": "display_data"
    }
   ],
   "source": [
    "plt.figure(figsize=(7,7))\n",
    "plt.title(\"DFA Score comparison for different classes of Signal1 and Signal2 \", fontsize=14)\n",
    "sns.barplot(data = dfa_result,x='Signal',hue ='Class',y='Value',palette='Set2');\n",
    "plt.ylabel(\"DFA Score\");\n"
   ]
  },
  {
   "cell_type": "markdown",
   "metadata": {},
   "source": [
    "##### Observation\n",
    "\n",
    "Signal 1 of Class A has the lowest DFA score hence suggesting the highest complexity for the whole dataset.\n",
    "\n",
    "Bifurcating the dataset for the two signals; for signal 2 in particular it can be said that Class C of Signal2 has the highest complexity since it has the lowest DFA score."
   ]
  },
  {
   "cell_type": "code",
   "execution_count": 287,
   "metadata": {},
   "outputs": [
    {
     "data": {
      "text/html": [
       "<div>\n",
       "<style scoped>\n",
       "    .dataframe tbody tr th:only-of-type {\n",
       "        vertical-align: middle;\n",
       "    }\n",
       "\n",
       "    .dataframe tbody tr th {\n",
       "        vertical-align: top;\n",
       "    }\n",
       "\n",
       "    .dataframe thead th {\n",
       "        text-align: right;\n",
       "    }\n",
       "</style>\n",
       "<table border=\"1\" class=\"dataframe\">\n",
       "  <thead>\n",
       "    <tr style=\"text-align: right;\">\n",
       "      <th></th>\n",
       "      <th>Signal</th>\n",
       "      <th>Class</th>\n",
       "      <th>Test</th>\n",
       "      <th>Value</th>\n",
       "    </tr>\n",
       "  </thead>\n",
       "  <tbody>\n",
       "    <tr>\n",
       "      <th>1</th>\n",
       "      <td>1</td>\n",
       "      <td>A</td>\n",
       "      <td>HURST</td>\n",
       "      <td>0.592695</td>\n",
       "    </tr>\n",
       "    <tr>\n",
       "      <th>3</th>\n",
       "      <td>2</td>\n",
       "      <td>A</td>\n",
       "      <td>HURST</td>\n",
       "      <td>0.943646</td>\n",
       "    </tr>\n",
       "    <tr>\n",
       "      <th>5</th>\n",
       "      <td>1</td>\n",
       "      <td>B</td>\n",
       "      <td>HURST</td>\n",
       "      <td>0.608219</td>\n",
       "    </tr>\n",
       "    <tr>\n",
       "      <th>7</th>\n",
       "      <td>2</td>\n",
       "      <td>B</td>\n",
       "      <td>HURST</td>\n",
       "      <td>0.965602</td>\n",
       "    </tr>\n",
       "    <tr>\n",
       "      <th>9</th>\n",
       "      <td>1</td>\n",
       "      <td>C</td>\n",
       "      <td>HURST</td>\n",
       "      <td>0.829298</td>\n",
       "    </tr>\n",
       "    <tr>\n",
       "      <th>11</th>\n",
       "      <td>2</td>\n",
       "      <td>C</td>\n",
       "      <td>HURST</td>\n",
       "      <td>0.874832</td>\n",
       "    </tr>\n",
       "  </tbody>\n",
       "</table>\n",
       "</div>"
      ],
      "text/plain": [
       "   Signal Class   Test     Value\n",
       "1       1     A  HURST  0.592695\n",
       "3       2     A  HURST  0.943646\n",
       "5       1     B  HURST  0.608219\n",
       "7       2     B  HURST  0.965602\n",
       "9       1     C  HURST  0.829298\n",
       "11      2     C  HURST  0.874832"
      ]
     },
     "execution_count": 287,
     "metadata": {},
     "output_type": "execute_result"
    }
   ],
   "source": [
    "hurst_result = result[result.Test==\"HURST\"]\n",
    "hurst_result"
   ]
  },
  {
   "cell_type": "code",
   "execution_count": 288,
   "metadata": {},
   "outputs": [
    {
     "data": {
      "image/png": "[encoded data removed]",
      "text/plain": [
       "<Figure size 504x504 with 1 Axes>"
      ]
     },
     "metadata": {
      "needs_background": "light"
     },
     "output_type": "display_data"
    }
   ],
   "source": [
    "plt.figure(figsize=(7,7))\n",
    "plt.title(\"HURST Score comparison for different classes of Signal1 and Signal2 \", fontsize=14)\n",
    "sns.barplot(data = hurst_result,x='Signal',hue ='Class',y='Value',palette='Set1');\n",
    "plt.ylabel(\"HURST Score\");\n"
   ]
  },
  {
   "cell_type": "markdown",
   "metadata": {},
   "source": [
    "##### Observation\n",
    "\n",
    "Signal 1 of Class A has a lowest Hurst score suggesting the highest complexity. The Hurst Score is supporting the DFA score result as in the graph above.\n",
    "\n",
    "Bifurcating the dataset for the two signals; for signal 2 in particular it can be said that Class C of Signal2 has the highest complexity since it has the lowest HURST score."
   ]
  },
  {
   "cell_type": "markdown",
   "metadata": {},
   "source": [
    "## Step 5: Conclusion\n",
    "\n",
    "Signal 1 of Class A has a low DFA  and low HURST score amongst all classes and both signals. This was seen in the bar graphs drawn above hence suggesting the highest complexity. This has been also supported by the line graphs drawn under the respective sections of analysis. It was seen in the graph that with small log(n) or in other words when the number of windows is small the data line and the regression line are not close to each other. Suggesting the details of the Signal are lost when the magnitude of the scale used to measure is large hence intricate details are lost.\n",
    "\n",
    "The Signal 1 of Class A is the highest complexity for the whole data set.\n",
    "\n",
    "When Signal 2 is considered individually Class C has the highest complexity.\n",
    "\n",
    "\n"
   ]
  },
  {
   "cell_type": "code",
   "execution_count": null,
   "metadata": {},
   "outputs": [],
   "source": []
  }
 ],
 "metadata": {
  "kernelspec": {
   "display_name": "Python 3",
   "language": "python",
   "name": "python3"
  },
  "language_info": {
   "codemirror_mode": {
    "name": "ipython",
    "version": 3
   },
   "file_extension": ".py",
   "mimetype": "text/x-python",
   "name": "python",
   "nbconvert_exporter": "python",
   "pygments_lexer": "ipython3",
   "version": "3.8.3"
  }
 },
 "nbformat": 4,
 "nbformat_minor": 4
}
